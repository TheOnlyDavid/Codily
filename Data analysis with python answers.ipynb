{
 "cells": [
  {
   "cell_type": "markdown",
   "id": "8afc38dc-45d6-4a16-91ca-2a985724dc7d",
   "metadata": {},
   "source": [
    "## 1 calculadora en matrix"
   ]
  },
  {
   "cell_type": "code",
   "execution_count": 17,
   "id": "9babb478-d6b3-4490-aa63-c00f811ccc75",
   "metadata": {},
   "outputs": [],
   "source": [
    "import numpy as np"
   ]
  },
  {
   "cell_type": "code",
   "execution_count": 36,
   "id": "50005721-c8b6-400d-86b3-1875f2989935",
   "metadata": {},
   "outputs": [],
   "source": [
    "def calculate(list):\n",
    "    ls = np.array(list)\n",
    "    if len(ls) < 9:\n",
    "        return 'Not a 3x3'\n",
    "\n",
    "    me_a1, va_a1, st_a1, ma_a1, mi_a1, su_a1 = [],[],[],[],[],[]\n",
    "    me_a2, va_a2, st_a2, ma_a2, mi_a2, su_a2 = [],[],[],[],[],[]\n",
    "    me_ag, va_ag, st_ag, ma_ag, mi_ag, su_ag = [],[],[],[],[],[]\n",
    "    \n",
    "    for i in range(7):\n",
    "        if i <= 2:\n",
    "            arrx = arr[:,i] \n",
    "            me_a1.append(np.mean(arrx))\n",
    "            va_a1.append(np.var(arrx))\n",
    "            st_a1.append(np.std(arrx))\n",
    "            ma_a1.append(np.amax(arrx))\n",
    "            mi_a1.append(np.amin(arrx))\n",
    "            su_a1.append(np.sum(arrx))\n",
    "        if i > 2 and i <= 5:\n",
    "            arrx = arr[i-3]\n",
    "            me_a2.append(np.mean(arrx))\n",
    "            va_a2.append(np.var(arrx))\n",
    "            st_a2.append(np.std(arrx))\n",
    "            ma_a2.append(np.amax(arrx))\n",
    "            mi_a2.append(np.amin(arrx))\n",
    "            su_a2.append(np.sum(arrx))\n",
    "        if i == 6:\n",
    "            arrx = arr\n",
    "            me_ag = np.mean(arrx)\n",
    "            va_ag = np.var(arrx)\n",
    "            st_ag = np.std(arrx)\n",
    "            ma_ag = np.amax(arrx)\n",
    "            mi_ag = np.amin(arrx)\n",
    "            su_ag = np.sum(arrx)\n",
    "    \n",
    "    resdic = {\n",
    "      'mean': [me_a1,me_a2,me_ag],\n",
    "      'variance': [va_a1,va_a2,va_ag],\n",
    "      'standard deviation': [st_a1,st_a2,st_ag],\n",
    "      'max': [ma_a1,ma_a2,ma_ag],\n",
    "      'min': [mi_a1,mi_a2,mi_ag],\n",
    "      'sum': [su_a1,su_a2,su_ag]\n",
    "    }\n",
    "\n",
    "resdic"
   ]
  },
  {
   "cell_type": "markdown",
   "id": "5c28ed78-a0bc-4d5e-87fa-5bacf8b95893",
   "metadata": {},
   "source": [
    "## 2 respuesta a problema demográfico"
   ]
  },
  {
   "cell_type": "code",
   "execution_count": 144,
   "id": "d55419d5-541e-4db8-86dd-bb64b2e1a69a",
   "metadata": {},
   "outputs": [
    {
     "name": "stdout",
     "output_type": "stream",
     "text": [
      "1.4.2\n"
     ]
    }
   ],
   "source": [
    "import numpy as np\n",
    "import pandas as pd\n",
    "print(pd.__version__)"
   ]
  },
  {
   "cell_type": "code",
   "execution_count": 141,
   "id": "cd593885-a1e0-4a1b-aad0-e7c04e0f9267",
   "metadata": {},
   "outputs": [],
   "source": [
    "df = pd.read_csv('adult.data.csv')"
   ]
  },
  {
   "cell_type": "code",
   "execution_count": 147,
   "id": "ce6701f7-2080-4f08-ba7d-e1cae3db0c85",
   "metadata": {},
   "outputs": [
    {
     "data": {
      "text/html": [
       "<div>\n",
       "<style scoped>\n",
       "    .dataframe tbody tr th:only-of-type {\n",
       "        vertical-align: middle;\n",
       "    }\n",
       "\n",
       "    .dataframe tbody tr th {\n",
       "        vertical-align: top;\n",
       "    }\n",
       "\n",
       "    .dataframe thead th {\n",
       "        text-align: right;\n",
       "    }\n",
       "</style>\n",
       "<table border=\"1\" class=\"dataframe\">\n",
       "  <thead>\n",
       "    <tr style=\"text-align: right;\">\n",
       "      <th></th>\n",
       "      <th>age</th>\n",
       "      <th>workclass</th>\n",
       "      <th>fnlwgt</th>\n",
       "      <th>education</th>\n",
       "      <th>education-num</th>\n",
       "      <th>marital-status</th>\n",
       "      <th>occupation</th>\n",
       "      <th>relationship</th>\n",
       "      <th>race</th>\n",
       "      <th>sex</th>\n",
       "      <th>capital-gain</th>\n",
       "      <th>capital-loss</th>\n",
       "      <th>hours-per-week</th>\n",
       "      <th>native-country</th>\n",
       "      <th>salary</th>\n",
       "    </tr>\n",
       "  </thead>\n",
       "  <tbody>\n",
       "    <tr>\n",
       "      <th>0</th>\n",
       "      <td>39</td>\n",
       "      <td>State-gov</td>\n",
       "      <td>77516</td>\n",
       "      <td>Bachelors</td>\n",
       "      <td>13</td>\n",
       "      <td>Never-married</td>\n",
       "      <td>Adm-clerical</td>\n",
       "      <td>Not-in-family</td>\n",
       "      <td>White</td>\n",
       "      <td>Male</td>\n",
       "      <td>2174</td>\n",
       "      <td>0</td>\n",
       "      <td>40</td>\n",
       "      <td>United-States</td>\n",
       "      <td>&lt;=50K</td>\n",
       "    </tr>\n",
       "    <tr>\n",
       "      <th>1</th>\n",
       "      <td>50</td>\n",
       "      <td>Self-emp-not-inc</td>\n",
       "      <td>83311</td>\n",
       "      <td>Bachelors</td>\n",
       "      <td>13</td>\n",
       "      <td>Married-civ-spouse</td>\n",
       "      <td>Exec-managerial</td>\n",
       "      <td>Husband</td>\n",
       "      <td>White</td>\n",
       "      <td>Male</td>\n",
       "      <td>0</td>\n",
       "      <td>0</td>\n",
       "      <td>13</td>\n",
       "      <td>United-States</td>\n",
       "      <td>&lt;=50K</td>\n",
       "    </tr>\n",
       "    <tr>\n",
       "      <th>2</th>\n",
       "      <td>38</td>\n",
       "      <td>Private</td>\n",
       "      <td>215646</td>\n",
       "      <td>HS-grad</td>\n",
       "      <td>9</td>\n",
       "      <td>Divorced</td>\n",
       "      <td>Handlers-cleaners</td>\n",
       "      <td>Not-in-family</td>\n",
       "      <td>White</td>\n",
       "      <td>Male</td>\n",
       "      <td>0</td>\n",
       "      <td>0</td>\n",
       "      <td>40</td>\n",
       "      <td>United-States</td>\n",
       "      <td>&lt;=50K</td>\n",
       "    </tr>\n",
       "    <tr>\n",
       "      <th>3</th>\n",
       "      <td>53</td>\n",
       "      <td>Private</td>\n",
       "      <td>234721</td>\n",
       "      <td>11th</td>\n",
       "      <td>7</td>\n",
       "      <td>Married-civ-spouse</td>\n",
       "      <td>Handlers-cleaners</td>\n",
       "      <td>Husband</td>\n",
       "      <td>Black</td>\n",
       "      <td>Male</td>\n",
       "      <td>0</td>\n",
       "      <td>0</td>\n",
       "      <td>40</td>\n",
       "      <td>United-States</td>\n",
       "      <td>&lt;=50K</td>\n",
       "    </tr>\n",
       "    <tr>\n",
       "      <th>4</th>\n",
       "      <td>28</td>\n",
       "      <td>Private</td>\n",
       "      <td>338409</td>\n",
       "      <td>Bachelors</td>\n",
       "      <td>13</td>\n",
       "      <td>Married-civ-spouse</td>\n",
       "      <td>Prof-specialty</td>\n",
       "      <td>Wife</td>\n",
       "      <td>Black</td>\n",
       "      <td>Female</td>\n",
       "      <td>0</td>\n",
       "      <td>0</td>\n",
       "      <td>40</td>\n",
       "      <td>Cuba</td>\n",
       "      <td>&lt;=50K</td>\n",
       "    </tr>\n",
       "  </tbody>\n",
       "</table>\n",
       "</div>"
      ],
      "text/plain": [
       "   age         workclass  fnlwgt  education  education-num  \\\n",
       "0   39         State-gov   77516  Bachelors             13   \n",
       "1   50  Self-emp-not-inc   83311  Bachelors             13   \n",
       "2   38           Private  215646    HS-grad              9   \n",
       "3   53           Private  234721       11th              7   \n",
       "4   28           Private  338409  Bachelors             13   \n",
       "\n",
       "       marital-status         occupation   relationship   race     sex  \\\n",
       "0       Never-married       Adm-clerical  Not-in-family  White    Male   \n",
       "1  Married-civ-spouse    Exec-managerial        Husband  White    Male   \n",
       "2            Divorced  Handlers-cleaners  Not-in-family  White    Male   \n",
       "3  Married-civ-spouse  Handlers-cleaners        Husband  Black    Male   \n",
       "4  Married-civ-spouse     Prof-specialty           Wife  Black  Female   \n",
       "\n",
       "   capital-gain  capital-loss  hours-per-week native-country salary  \n",
       "0          2174             0              40  United-States  <=50K  \n",
       "1             0             0              13  United-States  <=50K  \n",
       "2             0             0              40  United-States  <=50K  \n",
       "3             0             0              40  United-States  <=50K  \n",
       "4             0             0              40           Cuba  <=50K  "
      ]
     },
     "execution_count": 147,
     "metadata": {},
     "output_type": "execute_result"
    }
   ],
   "source": [
    "df.head()"
   ]
  },
  {
   "cell_type": "code",
   "execution_count": 148,
   "id": "49ab3330-c9ef-454e-a0e0-5979496bd059",
   "metadata": {},
   "outputs": [
    {
     "data": {
      "text/html": [
       "<div>\n",
       "<style scoped>\n",
       "    .dataframe tbody tr th:only-of-type {\n",
       "        vertical-align: middle;\n",
       "    }\n",
       "\n",
       "    .dataframe tbody tr th {\n",
       "        vertical-align: top;\n",
       "    }\n",
       "\n",
       "    .dataframe thead th {\n",
       "        text-align: right;\n",
       "    }\n",
       "</style>\n",
       "<table border=\"1\" class=\"dataframe\">\n",
       "  <thead>\n",
       "    <tr style=\"text-align: right;\">\n",
       "      <th></th>\n",
       "      <th>age</th>\n",
       "      <th>fnlwgt</th>\n",
       "      <th>education-num</th>\n",
       "      <th>capital-gain</th>\n",
       "      <th>capital-loss</th>\n",
       "      <th>hours-per-week</th>\n",
       "    </tr>\n",
       "  </thead>\n",
       "  <tbody>\n",
       "    <tr>\n",
       "      <th>count</th>\n",
       "      <td>32561.000000</td>\n",
       "      <td>3.256100e+04</td>\n",
       "      <td>32561.000000</td>\n",
       "      <td>32561.000000</td>\n",
       "      <td>32561.000000</td>\n",
       "      <td>32561.000000</td>\n",
       "    </tr>\n",
       "    <tr>\n",
       "      <th>mean</th>\n",
       "      <td>38.581647</td>\n",
       "      <td>1.897784e+05</td>\n",
       "      <td>10.080679</td>\n",
       "      <td>1077.648844</td>\n",
       "      <td>87.303830</td>\n",
       "      <td>40.437456</td>\n",
       "    </tr>\n",
       "    <tr>\n",
       "      <th>std</th>\n",
       "      <td>13.640433</td>\n",
       "      <td>1.055500e+05</td>\n",
       "      <td>2.572720</td>\n",
       "      <td>7385.292085</td>\n",
       "      <td>402.960219</td>\n",
       "      <td>12.347429</td>\n",
       "    </tr>\n",
       "    <tr>\n",
       "      <th>min</th>\n",
       "      <td>17.000000</td>\n",
       "      <td>1.228500e+04</td>\n",
       "      <td>1.000000</td>\n",
       "      <td>0.000000</td>\n",
       "      <td>0.000000</td>\n",
       "      <td>1.000000</td>\n",
       "    </tr>\n",
       "    <tr>\n",
       "      <th>25%</th>\n",
       "      <td>28.000000</td>\n",
       "      <td>1.178270e+05</td>\n",
       "      <td>9.000000</td>\n",
       "      <td>0.000000</td>\n",
       "      <td>0.000000</td>\n",
       "      <td>40.000000</td>\n",
       "    </tr>\n",
       "    <tr>\n",
       "      <th>50%</th>\n",
       "      <td>37.000000</td>\n",
       "      <td>1.783560e+05</td>\n",
       "      <td>10.000000</td>\n",
       "      <td>0.000000</td>\n",
       "      <td>0.000000</td>\n",
       "      <td>40.000000</td>\n",
       "    </tr>\n",
       "    <tr>\n",
       "      <th>75%</th>\n",
       "      <td>48.000000</td>\n",
       "      <td>2.370510e+05</td>\n",
       "      <td>12.000000</td>\n",
       "      <td>0.000000</td>\n",
       "      <td>0.000000</td>\n",
       "      <td>45.000000</td>\n",
       "    </tr>\n",
       "    <tr>\n",
       "      <th>max</th>\n",
       "      <td>90.000000</td>\n",
       "      <td>1.484705e+06</td>\n",
       "      <td>16.000000</td>\n",
       "      <td>99999.000000</td>\n",
       "      <td>4356.000000</td>\n",
       "      <td>99.000000</td>\n",
       "    </tr>\n",
       "  </tbody>\n",
       "</table>\n",
       "</div>"
      ],
      "text/plain": [
       "                age        fnlwgt  education-num  capital-gain  capital-loss  \\\n",
       "count  32561.000000  3.256100e+04   32561.000000  32561.000000  32561.000000   \n",
       "mean      38.581647  1.897784e+05      10.080679   1077.648844     87.303830   \n",
       "std       13.640433  1.055500e+05       2.572720   7385.292085    402.960219   \n",
       "min       17.000000  1.228500e+04       1.000000      0.000000      0.000000   \n",
       "25%       28.000000  1.178270e+05       9.000000      0.000000      0.000000   \n",
       "50%       37.000000  1.783560e+05      10.000000      0.000000      0.000000   \n",
       "75%       48.000000  2.370510e+05      12.000000      0.000000      0.000000   \n",
       "max       90.000000  1.484705e+06      16.000000  99999.000000   4356.000000   \n",
       "\n",
       "       hours-per-week  \n",
       "count    32561.000000  \n",
       "mean        40.437456  \n",
       "std         12.347429  \n",
       "min          1.000000  \n",
       "25%         40.000000  \n",
       "50%         40.000000  \n",
       "75%         45.000000  \n",
       "max         99.000000  "
      ]
     },
     "execution_count": 148,
     "metadata": {},
     "output_type": "execute_result"
    }
   ],
   "source": [
    "df.describe()"
   ]
  },
  {
   "cell_type": "code",
   "execution_count": 150,
   "id": "3b44a71f-3520-4cb6-994a-8194ecbe7a6e",
   "metadata": {},
   "outputs": [
    {
     "data": {
      "text/plain": [
       "Index(['age', 'workclass', 'fnlwgt', 'education', 'education-num',\n",
       "       'marital-status', 'occupation', 'relationship', 'race', 'sex',\n",
       "       'capital-gain', 'capital-loss', 'hours-per-week', 'native-country',\n",
       "       'salary'],\n",
       "      dtype='object')"
      ]
     },
     "execution_count": 150,
     "metadata": {},
     "output_type": "execute_result"
    }
   ],
   "source": [
    "df.columns"
   ]
  },
  {
   "cell_type": "markdown",
   "id": "116ec563-a218-4b18-9228-9083963b7b19",
   "metadata": {},
   "source": [
    "## 2.1\n",
    "How many people of each race are represented in this dataset? This should be a Pandas series with race names as the index labels. (race column)"
   ]
  },
  {
   "cell_type": "code",
   "execution_count": 157,
   "id": "92f771cc-f39a-497c-9089-220c279dde56",
   "metadata": {},
   "outputs": [
    {
     "data": {
      "text/plain": [
       "race\n",
       "Amer-Indian-Eskimo      311\n",
       "Asian-Pac-Islander     1039\n",
       "Black                  3124\n",
       "Other                   271\n",
       "White                 27816\n",
       "Name: workclass, dtype: int64"
      ]
     },
     "execution_count": 157,
     "metadata": {},
     "output_type": "execute_result"
    }
   ],
   "source": [
    "df.groupby('race')['workclass'].count()"
   ]
  },
  {
   "cell_type": "code",
   "execution_count": 294,
   "id": "4e6a4b5f-d6af-4be6-8f5e-17fbfc01c9a5",
   "metadata": {},
   "outputs": [
    {
     "data": {
      "text/plain": [
       "White                 27816\n",
       "Black                  3124\n",
       "Asian-Pac-Islander     1039\n",
       "Amer-Indian-Eskimo      311\n",
       "Other                   271\n",
       "Name: race, dtype: int64"
      ]
     },
     "execution_count": 294,
     "metadata": {},
     "output_type": "execute_result"
    }
   ],
   "source": [
    "df['race'].value_counts()"
   ]
  },
  {
   "cell_type": "markdown",
   "id": "24c64334-ae03-4901-9869-e9b3c85ef489",
   "metadata": {},
   "source": [
    "## 2.2\n",
    "What is the average age of men?"
   ]
  },
  {
   "cell_type": "code",
   "execution_count": 163,
   "id": "9f51e3a4-3297-4b27-9db7-435454751883",
   "metadata": {},
   "outputs": [
    {
     "data": {
      "text/plain": [
       "39.43354749885268"
      ]
     },
     "execution_count": 163,
     "metadata": {},
     "output_type": "execute_result"
    }
   ],
   "source": [
    "df.loc[df['sex'] == 'Male','age'].mean()"
   ]
  },
  {
   "cell_type": "code",
   "execution_count": 298,
   "id": "9c4cfcd8-fd16-4d0c-b5f9-dab68a096f82",
   "metadata": {},
   "outputs": [
    {
     "data": {
      "text/plain": [
       "39.43354749885268"
      ]
     },
     "execution_count": 298,
     "metadata": {},
     "output_type": "execute_result"
    }
   ],
   "source": [
    "df[df['sex'] == 'Male']['age'].mean()"
   ]
  },
  {
   "cell_type": "markdown",
   "id": "9f22965b-806a-4f97-a017-8f4e038c75eb",
   "metadata": {},
   "source": [
    "## 2.3\n",
    "What is the percentage of people who have a Bachelor's degree?"
   ]
  },
  {
   "cell_type": "code",
   "execution_count": 170,
   "id": "106a8d1d-2a65-41a4-95df-0d46ba1f7b31",
   "metadata": {},
   "outputs": [
    {
     "data": {
      "text/plain": [
       "5355"
      ]
     },
     "execution_count": 170,
     "metadata": {},
     "output_type": "execute_result"
    }
   ],
   "source": [
    "df.loc[df['education'] == 'Bachelors','age'].count()"
   ]
  },
  {
   "cell_type": "code",
   "execution_count": 172,
   "id": "c817ac2d-6521-459e-b578-7cb5e15bca4d",
   "metadata": {},
   "outputs": [
    {
     "data": {
      "text/plain": [
       "32561"
      ]
     },
     "execution_count": 172,
     "metadata": {},
     "output_type": "execute_result"
    }
   ],
   "source": [
    "df['age'].count()"
   ]
  },
  {
   "cell_type": "code",
   "execution_count": 176,
   "id": "64fbc405-936c-4f40-878f-95215bbeae0b",
   "metadata": {},
   "outputs": [
    {
     "data": {
      "text/plain": [
       "16.4"
      ]
     },
     "execution_count": 176,
     "metadata": {},
     "output_type": "execute_result"
    }
   ],
   "source": [
    "round(df.loc[df['education'] == 'Bachelors','age'].count() / df['age'].count() *100 , 1)"
   ]
  },
  {
   "cell_type": "markdown",
   "id": "e8c8ebb5-b653-4dec-b78f-754c6c1d20f2",
   "metadata": {},
   "source": [
    "## 2.4\n",
    "What percentage of people with advanced education (Bachelors, Masters, or Doctorate) make more than 50K?"
   ]
  },
  {
   "cell_type": "code",
   "execution_count": 218,
   "id": "35b606b9-27f0-481b-8e89-94e31f252609",
   "metadata": {},
   "outputs": [
    {
     "data": {
      "text/plain": [
       "education\n",
       "10th              933\n",
       "11th             1175\n",
       "12th              433\n",
       "1st-4th           168\n",
       "5th-6th           333\n",
       "7th-8th           646\n",
       "9th               514\n",
       "Assoc-acdm       1067\n",
       "Assoc-voc        1382\n",
       "Bachelors        5355\n",
       "Doctorate         413\n",
       "HS-grad         10501\n",
       "Masters          1723\n",
       "Preschool          51\n",
       "Prof-school       576\n",
       "Some-college     7291\n",
       "Name: age, dtype: int64"
      ]
     },
     "execution_count": 218,
     "metadata": {},
     "output_type": "execute_result"
    }
   ],
   "source": [
    "df.groupby('education')['age'].count()"
   ]
  },
  {
   "cell_type": "code",
   "execution_count": 223,
   "id": "dd163e13-8837-4fd5-a0da-754d1c245f72",
   "metadata": {},
   "outputs": [
    {
     "data": {
      "text/plain": [
       "education\n",
       "False    25070\n",
       "True      7491\n",
       "Name: age, dtype: int64"
      ]
     },
     "execution_count": 223,
     "metadata": {},
     "output_type": "execute_result"
    }
   ],
   "source": [
    "df.groupby(df.education.isin(['Bachelors','Masters','Doctorate']))['age'].count()"
   ]
  },
  {
   "cell_type": "code",
   "execution_count": 214,
   "id": "2a0d6050-d80b-4943-bbfb-13ef53cadbe9",
   "metadata": {},
   "outputs": [
    {
     "data": {
      "text/plain": [
       "0        False\n",
       "1        False\n",
       "2        False\n",
       "3        False\n",
       "4        False\n",
       "         ...  \n",
       "32556    False\n",
       "32557    False\n",
       "32558    False\n",
       "32559    False\n",
       "32560    False\n",
       "Length: 32561, dtype: bool"
      ]
     },
     "execution_count": 214,
     "metadata": {},
     "output_type": "execute_result"
    }
   ],
   "source": [
    "(df.education.isin(['Bachelors','Masters','Doctorate'])) & (df.salary == '>50K')"
   ]
  },
  {
   "cell_type": "code",
   "execution_count": 225,
   "id": "6d10df07-750d-40bd-9a57-e29e18da5c79",
   "metadata": {},
   "outputs": [
    {
     "data": {
      "text/plain": [
       "3486"
      ]
     },
     "execution_count": 225,
     "metadata": {},
     "output_type": "execute_result"
    }
   ],
   "source": [
    "df[(df.education.isin(['Bachelors','Masters','Doctorate'])) & (df.salary == '>50K')]['age'].count()"
   ]
  },
  {
   "cell_type": "code",
   "execution_count": 226,
   "id": "a13281b5-7606-4b22-84dd-9325176a034d",
   "metadata": {},
   "outputs": [
    {
     "data": {
      "text/plain": [
       "7491"
      ]
     },
     "execution_count": 226,
     "metadata": {},
     "output_type": "execute_result"
    }
   ],
   "source": [
    "df[(df.education.isin(['Bachelors','Masters','Doctorate']))]['age'].count()"
   ]
  },
  {
   "cell_type": "code",
   "execution_count": 229,
   "id": "bf000a90-ef5f-456a-9a1f-1564a4e04198",
   "metadata": {},
   "outputs": [],
   "source": [
    "res = df[(df.education.isin(['Bachelors','Masters','Doctorate'])) & (df.salary == '>50K')]['age'].count() / df[(df.education.isin(['Bachelors','Masters','Doctorate']))]['age'].count()"
   ]
  },
  {
   "cell_type": "code",
   "execution_count": 231,
   "id": "e274ef45-106f-4b4a-90ac-eb92ac308147",
   "metadata": {},
   "outputs": [
    {
     "data": {
      "text/plain": [
       "46.5"
      ]
     },
     "execution_count": 231,
     "metadata": {},
     "output_type": "execute_result"
    }
   ],
   "source": [
    "round(res*100,1)"
   ]
  },
  {
   "cell_type": "markdown",
   "id": "8271132e-e71a-461b-be75-f45305885719",
   "metadata": {},
   "source": [
    "## 2.5\n",
    "What percentage of people without advanced education make more than 50K?"
   ]
  },
  {
   "cell_type": "code",
   "execution_count": 238,
   "id": "a9fba02a-f973-471d-98db-6c9066220da9",
   "metadata": {},
   "outputs": [
    {
     "data": {
      "text/plain": [
       "4355"
      ]
     },
     "execution_count": 238,
     "metadata": {},
     "output_type": "execute_result"
    }
   ],
   "source": [
    "df[(~df.education.isin(['Bachelors','Masters','Doctorate'])) & (df.salary == '>50K')]['age'].count()"
   ]
  },
  {
   "cell_type": "code",
   "execution_count": 242,
   "id": "95fa7b6a-29d7-4f53-b940-8dcee91b83f6",
   "metadata": {},
   "outputs": [
    {
     "data": {
      "text/plain": [
       "25070"
      ]
     },
     "execution_count": 242,
     "metadata": {},
     "output_type": "execute_result"
    }
   ],
   "source": [
    "df[(~df.education.isin(['Bachelors','Masters','Doctorate']))]['age'].count()"
   ]
  },
  {
   "cell_type": "code",
   "execution_count": 243,
   "id": "0e4d3167-f713-4f2c-9e06-08563dcf3fd8",
   "metadata": {},
   "outputs": [],
   "source": [
    "res = df[(~df.education.isin(['Bachelors','Masters','Doctorate'])) & (df.salary == '>50K')]['age'].count() / df[(~df.education.isin(['Bachelors','Masters','Doctorate']))]['age'].count()"
   ]
  },
  {
   "cell_type": "code",
   "execution_count": 244,
   "id": "440b84e7-85c9-4243-ba15-ae481e97e90a",
   "metadata": {},
   "outputs": [
    {
     "data": {
      "text/plain": [
       "17.4"
      ]
     },
     "execution_count": 244,
     "metadata": {},
     "output_type": "execute_result"
    }
   ],
   "source": [
    "round(res*100,1)"
   ]
  },
  {
   "cell_type": "markdown",
   "id": "28520516-febd-415c-8ffc-f752497c9ad3",
   "metadata": {},
   "source": [
    "## 2.6\n",
    "What is the minimum number of hours a person works per week?"
   ]
  },
  {
   "cell_type": "code",
   "execution_count": 247,
   "id": "f3571e1d-49e1-4b0f-9638-7dc795bac295",
   "metadata": {},
   "outputs": [
    {
     "data": {
      "text/plain": [
       "1"
      ]
     },
     "execution_count": 247,
     "metadata": {},
     "output_type": "execute_result"
    }
   ],
   "source": [
    "df['hours-per-week'].min()"
   ]
  },
  {
   "cell_type": "markdown",
   "id": "9534f073-18f5-4d5b-9878-fdb0475a02cf",
   "metadata": {},
   "source": [
    "## 2.7\n",
    "What percentage of the people who work the minimum number of hours per week have a salary of more than 50K?"
   ]
  },
  {
   "cell_type": "code",
   "execution_count": 254,
   "id": "7d898f37-260f-4f95-ad4b-42b9fd606e29",
   "metadata": {},
   "outputs": [
    {
     "data": {
      "text/plain": [
       "2"
      ]
     },
     "execution_count": 254,
     "metadata": {},
     "output_type": "execute_result"
    }
   ],
   "source": [
    "df[(df['hours-per-week'] == 1) & (df['salary'] == '>50K')]['age'].count()"
   ]
  },
  {
   "cell_type": "code",
   "execution_count": 256,
   "id": "aa4df7f5-38e9-4e43-af0c-c743edc529f4",
   "metadata": {},
   "outputs": [],
   "source": [
    "res = df[(df['hours-per-week'] == 1) & (df['salary'] == '>50K')]['age'].count() / df[df['hours-per-week'] == 1]['age'].count()"
   ]
  },
  {
   "cell_type": "code",
   "execution_count": 257,
   "id": "1ede1d3c-b9a0-44b6-9af4-1c2afc203fd4",
   "metadata": {},
   "outputs": [
    {
     "data": {
      "text/plain": [
       "10.0"
      ]
     },
     "execution_count": 257,
     "metadata": {},
     "output_type": "execute_result"
    }
   ],
   "source": [
    "round(res*100,1)"
   ]
  },
  {
   "cell_type": "markdown",
   "id": "1524ded1-9a92-4e71-bc3b-4b022f9a862c",
   "metadata": {},
   "source": [
    "## 2.8\n",
    "What country has the highest percentage of people that earn >50K and what is that percentage?"
   ]
  },
  {
   "cell_type": "code",
   "execution_count": 305,
   "id": "279fab66-e4e7-4f3b-a135-b74a98c75efb",
   "metadata": {},
   "outputs": [
    {
     "data": {
      "text/plain": [
       "United-States    29170\n",
       "Mexico             643\n",
       "?                  583\n",
       "Philippines        198\n",
       "Germany            137\n",
       "Name: native-country, dtype: int64"
      ]
     },
     "execution_count": 305,
     "metadata": {},
     "output_type": "execute_result"
    }
   ],
   "source": [
    "df['native-country'].value_counts().head()"
   ]
  },
  {
   "cell_type": "code",
   "execution_count": 306,
   "id": "3cd450fe-f1c0-4389-a0d1-6d53057661b7",
   "metadata": {},
   "outputs": [
    {
     "data": {
      "text/plain": [
       "United-States    7171\n",
       "?                 146\n",
       "Philippines        61\n",
       "Germany            44\n",
       "India              40\n",
       "Name: native-country, dtype: int64"
      ]
     },
     "execution_count": 306,
     "metadata": {},
     "output_type": "execute_result"
    }
   ],
   "source": [
    "df[df['salary'] == '>50K']['native-country'].value_counts().head()"
   ]
  },
  {
   "cell_type": "code",
   "execution_count": 313,
   "id": "53632765-2412-44e6-bb8e-4ffbdb2661c4",
   "metadata": {},
   "outputs": [],
   "source": [
    "df2 = round(df[df['salary'] == '>50K']['native-country'].value_counts() / df['native-country'].value_counts() *100, 2)"
   ]
  },
  {
   "cell_type": "code",
   "execution_count": 318,
   "id": "0bc74a8b-7abe-4041-91b5-01c4a9174646",
   "metadata": {},
   "outputs": [
    {
     "data": {
      "text/plain": [
       "Iran      41.86\n",
       "France    41.38\n",
       "India     40.00\n",
       "Taiwan    39.22\n",
       "Japan     38.71\n",
       "Name: native-country, dtype: float64"
      ]
     },
     "execution_count": 318,
     "metadata": {},
     "output_type": "execute_result"
    }
   ],
   "source": [
    "df2.sort_values(ascending=False).head()"
   ]
  },
  {
   "cell_type": "code",
   "execution_count": 314,
   "id": "942112dc-e804-4462-b488-0ed1e69ab450",
   "metadata": {},
   "outputs": [
    {
     "data": {
      "text/plain": [
       "'Iran'"
      ]
     },
     "execution_count": 314,
     "metadata": {},
     "output_type": "execute_result"
    }
   ],
   "source": [
    "df2.idxmax()"
   ]
  },
  {
   "cell_type": "markdown",
   "id": "e614d54c-bee3-44d3-ac28-f8be6723ad95",
   "metadata": {},
   "source": [
    "## 2.9\n",
    "Identify the most popular occupation for those who earn >50K in India."
   ]
  },
  {
   "cell_type": "code",
   "execution_count": 329,
   "id": "1e5e6095-81f8-4adb-916a-61536c7c5200",
   "metadata": {},
   "outputs": [],
   "source": [
    "df3 = df[(df['salary'] == '>50K') & (df['native-country'] == 'India')]['occupation'].value_counts().sort_values(ascending = False)"
   ]
  },
  {
   "cell_type": "code",
   "execution_count": 330,
   "id": "93b4869a-c63f-40c7-bda8-e93f8b95e231",
   "metadata": {},
   "outputs": [
    {
     "data": {
      "text/plain": [
       "Prof-specialty      25\n",
       "Exec-managerial      8\n",
       "Other-service        2\n",
       "Tech-support         2\n",
       "Transport-moving     1\n",
       "Sales                1\n",
       "Adm-clerical         1\n",
       "Name: occupation, dtype: int64"
      ]
     },
     "execution_count": 330,
     "metadata": {},
     "output_type": "execute_result"
    }
   ],
   "source": [
    "df3"
   ]
  },
  {
   "cell_type": "code",
   "execution_count": 331,
   "id": "679d8161-2a30-4f9d-9244-a827afb9c003",
   "metadata": {},
   "outputs": [
    {
     "data": {
      "text/plain": [
       "'Prof-specialty'"
      ]
     },
     "execution_count": 331,
     "metadata": {},
     "output_type": "execute_result"
    }
   ],
   "source": [
    "df3.idxmax()"
   ]
  },
  {
   "cell_type": "code",
   "execution_count": null,
   "id": "198d5cc8-0046-4ec0-b946-7bf9f15ea870",
   "metadata": {},
   "outputs": [],
   "source": []
  }
 ],
 "metadata": {
  "kernelspec": {
   "display_name": "Python 3 (ipykernel)",
   "language": "python",
   "name": "python3"
  },
  "language_info": {
   "codemirror_mode": {
    "name": "ipython",
    "version": 3
   },
   "file_extension": ".py",
   "mimetype": "text/x-python",
   "name": "python",
   "nbconvert_exporter": "python",
   "pygments_lexer": "ipython3",
   "version": "3.9.12"
  }
 },
 "nbformat": 4,
 "nbformat_minor": 5
}
